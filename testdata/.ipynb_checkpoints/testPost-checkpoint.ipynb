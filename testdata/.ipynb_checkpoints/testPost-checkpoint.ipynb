{
 "cells": [
  {
   "cell_type": "code",
   "execution_count": 1,
   "metadata": {},
   "outputs": [],
   "source": [
    "import requests\n",
    "import json"
   ]
  },
  {
   "cell_type": "code",
   "execution_count": 12,
   "metadata": {},
   "outputs": [],
   "source": [
    "BOT_ENDPOINT = \"http://127.0.0.1:2000/api/botController/\""
   ]
  },
  {
   "cell_type": "code",
   "execution_count": 25,
   "metadata": {},
   "outputs": [
    {
     "data": {
      "text/plain": [
       "{'user': 'sidd', 'messageText': 'Hi', 'messageType': 'text', 'attachment': ''}"
      ]
     },
     "execution_count": 25,
     "metadata": {},
     "output_type": "execute_result"
    }
   ],
   "source": [
    "with open('test.json', 'r') as f:\n",
    "    data = json.loads(f.read())\n",
    "data"
   ]
  },
  {
   "cell_type": "code",
   "execution_count": 31,
   "metadata": {},
   "outputs": [
    {
     "name": "stdout",
     "output_type": "stream",
     "text": [
      "[{}] <Response [200]>\n"
     ]
    }
   ],
   "source": [
    "for n in range(5):\n",
    "    r = requests.post(url = BOT_ENDPOINT, data = json.dumps(data))\n",
    "    print(json.loads(r.text), r.status_code)"
   ]
  },
  {
   "cell_type": "code",
   "execution_count": 2,
   "metadata": {},
   "outputs": [],
   "source": [
    "INTENT_ENDPOINT = \"http://127.0.0.1:2005/api/intentController/\""
   ]
  },
  {
   "cell_type": "code",
   "execution_count": 5,
   "metadata": {},
   "outputs": [],
   "source": [
    "data1 = ['Can you book me a taxi please?', 'What hotels do you have?', 'book me a hotel']"
   ]
  },
  {
   "cell_type": "code",
   "execution_count": 8,
   "metadata": {},
   "outputs": [
    {
     "name": "stdout",
     "output_type": "stream",
     "text": [
      "{'intent': 'bookcab', 'probability': '0.99999356'} 200\n",
      "{'intent': 'bookhotel', 'probability': '0.9992268'} 200\n",
      "{'intent': 'bookhotel', 'probability': '0.9937564'} 200\n"
     ]
    }
   ],
   "source": [
    "for i in data1:\n",
    "    r1 = requests.post(url = INTENT_ENDPOINT, data = json.dumps(i))\n",
    "    print(json.loads(r1.text), r1.status_code)"
   ]
  },
  {
   "cell_type": "code",
   "execution_count": null,
   "metadata": {},
   "outputs": [],
   "source": []
  }
 ],
 "metadata": {
  "kernelspec": {
   "display_name": "tf",
   "language": "python",
   "name": "tf"
  },
  "language_info": {
   "codemirror_mode": {
    "name": "ipython",
    "version": 3
   },
   "file_extension": ".py",
   "mimetype": "text/x-python",
   "name": "python",
   "nbconvert_exporter": "python",
   "pygments_lexer": "ipython3",
   "version": "3.6.10"
  }
 },
 "nbformat": 4,
 "nbformat_minor": 4
}
