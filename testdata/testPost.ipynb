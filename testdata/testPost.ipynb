{
 "cells": [
  {
   "cell_type": "code",
   "execution_count": 25,
   "metadata": {},
   "outputs": [],
   "source": [
    "import requests\n",
    "import json"
   ]
  },
  {
   "cell_type": "code",
   "execution_count": 26,
   "metadata": {},
   "outputs": [],
   "source": [
    "BOT_ENDPOINT = \"http://127.0.0.1:2000/api/botController/\""
   ]
  },
  {
   "cell_type": "code",
   "execution_count": 30,
   "metadata": {},
   "outputs": [
    {
     "data": {
      "text/plain": [
       "{'user': 'mani',\n",
       " 'messageText': 'Can you book a hotel for me?',\n",
       " 'messageType': 'text',\n",
       " 'attachment': ''}"
      ]
     },
     "execution_count": 30,
     "metadata": {},
     "output_type": "execute_result"
    }
   ],
   "source": [
    "with open('test.json', 'r') as f:\n",
    "    data = json.loads(f.read())\n",
    "data"
   ]
  },
  {
   "cell_type": "code",
   "execution_count": 34,
   "metadata": {},
   "outputs": [
    {
     "name": "stdout",
     "output_type": "stream",
     "text": [
      "[{'attachemnt': '', 'channel': 'cabbookchannel', 'message': 'Please Select the Date', 'messageType': 'dateTimePicker()', 'user': 'Sidd'}] 200\n",
      "[{'attachemnt': '', 'channel': 'cabbookchannel', 'message': 'Your Cab Booking is Confirmed,your Confirmation id:{confirmationId}', 'messageType': 'text', 'user': 'Sidd'}] 200\n",
      "[{}] 200\n",
      "[{'attachemnt': 'attachment', 'channel': 'cabbookchannel', 'message': 'Sure,Please provide the city', 'messageType': 'dropdown', 'user': 'Sidd'}] 200\n",
      "[{'attachemnt': '', 'channel': 'cabbookchannel', 'message': 'Please Select the Date', 'messageType': 'dateTimePicker()', 'user': 'Sidd'}] 200\n"
     ]
    }
   ],
   "source": [
    "for n in range(5):\n",
    "    r = requests.post(url = BOT_ENDPOINT, data = json.dumps(data))\n",
    "    print(json.loads(r.text), r.status_code)"
   ]
  },
  {
   "cell_type": "code",
   "execution_count": 9,
   "metadata": {},
   "outputs": [],
   "source": [
    "INTENT_ENDPOINT = \"http://127.0.0.1:2005/api/intentController/\""
   ]
  },
  {
   "cell_type": "code",
   "execution_count": 27,
   "metadata": {},
   "outputs": [],
   "source": [
    "data1 = ['Can you book me a taxi please?', 'What hotels do you have?', 'book me a hotel', 'when do you have a cab available?']"
   ]
  },
  {
   "cell_type": "code",
   "execution_count": 28,
   "metadata": {},
   "outputs": [
    {
     "name": "stdout",
     "output_type": "stream",
     "text": [
      "{'intent': 'bookcab', 'probability': '0.99999356'} 200\n",
      "{'intent': 'bookhotel', 'probability': '0.9992268'} 200\n",
      "{'intent': 'bookhotel', 'probability': '0.9937564'} 200\n",
      "{'intent': 'bookcab', 'probability': '0.99999213'} 200\n"
     ]
    }
   ],
   "source": [
    "for i in data1:\n",
    "    r1 = requests.post(url = INTENT_ENDPOINT, data = json.dumps(i))\n",
    "    print(json.loads(r1.text), r1.status_code)"
   ]
  },
  {
   "cell_type": "code",
   "execution_count": 4,
   "metadata": {},
   "outputs": [],
   "source": [
    "SLACK_SEND_ENDPOINT = \"http://127.0.0.1:2015/slack/sendMessage/\""
   ]
  },
  {
   "cell_type": "code",
   "execution_count": 22,
   "metadata": {},
   "outputs": [
    {
     "data": {
      "text/plain": [
       "{'user': 'sidd',\n",
       " 'message': {'messageId': 'm1',\n",
       "  'messageText': 'Please select city',\n",
       "  'messageType': 'plaintext',\n",
       "  'attachments': [{'attachmentId': 'a1',\n",
       "    'atachmentSeq': 1,\n",
       "    'attachmentDesc': 'Cities',\n",
       "    'attachmentType': 'dropdown',\n",
       "    'options': [{'value': 'kolkata'}, {'value': 'bangalore'}]},\n",
       "   {'attachmentId': 'a3',\n",
       "    'atachmentSeq': 3,\n",
       "    'attachmentDesc': 'Confirmation',\n",
       "    'attachmentType': 'button',\n",
       "    'options': [{'value': 'Y'}, {'value': 'N'}]},\n",
       "   {'attachmentId': 'a2',\n",
       "    'attachmentSeq': 2,\n",
       "    'attachmentDesc': 'Is this your home city?',\n",
       "    'attachmentType': 'checkbox',\n",
       "    'options': [{'value': 'Y', 'setInitial': True}, {'value': 'N'}]},\n",
       "   {'attachmentId': 'a4',\n",
       "    'attachmentSeq': 4,\n",
       "    'attachmentDesc': 'Please select date',\n",
       "    'attachmentType': 'datepicker'}]},\n",
       " 'channel': 'D01CKLR83ST'}"
      ]
     },
     "execution_count": 22,
     "metadata": {},
     "output_type": "execute_result"
    }
   ],
   "source": [
    "#data2 = {'message': 'hi there', 'channel': 'D01CKLR83ST'}\n",
    "data2 = json.load(open('testv2.json'))\n",
    "data2['channel'] = 'D01CKLR83ST'\n",
    "data2"
   ]
  },
  {
   "cell_type": "code",
   "execution_count": 24,
   "metadata": {},
   "outputs": [
    {
     "name": "stdout",
     "output_type": "stream",
     "text": [
      "[{'accessory': {'action_id': 'a1', 'options': [{'text': {'text': 'kolkata', 'type': 'plain_text'}, 'value': 'kolkata'}, {'text': {'text': 'bangalore', 'type': 'plain_text'}, 'value': 'bangalore'}], 'type': 'static_select'}, 'block_id': 'm1', 'text': {'text': 'Please select city', 'type': 'mrkdwn'}, 'type': 'section'}, {'block_id': 'a3', 'elements': [{'text': {'text': 'Y', 'type': 'plain_text'}, 'type': 'button', 'value': 'Y'}, {'text': {'text': 'N', 'type': 'plain_text'}, 'type': 'button', 'value': 'N'}], 'type': 'actions'}, {'accessory': {'action_id': 'a2', 'initial_options': [{'text': {'text': 'Y', 'type': 'plain_text'}, 'value': 'Y'}], 'options': [{'text': {'text': 'Y', 'type': 'plain_text'}, 'value': 'Y'}, {'text': {'text': 'N', 'type': 'plain_text'}, 'value': 'N'}], 'type': 'checkboxes'}, 'block_id': 'a2', 'text': {'text': 'Is this your home city?', 'type': 'mrkdwn'}, 'type': 'section'}, {'accessory': {'action_id': 'a4', 'type': 'datepicker'}, 'block_id': 'a4', 'text': {'text': 'Please select date', 'type': 'mrkdwn'}, 'type': 'section'}] 200\n"
     ]
    }
   ],
   "source": [
    "r2 = requests.post(url = SLACK_SEND_ENDPOINT, data = json.dumps(data2))\n",
    "print(json.loads(r2.text), r2.status_code)"
   ]
  },
  {
   "cell_type": "code",
   "execution_count": null,
   "metadata": {},
   "outputs": [],
   "source": []
  }
 ],
 "metadata": {
  "kernelspec": {
   "display_name": "tf",
   "language": "python",
   "name": "tf"
  },
  "language_info": {
   "codemirror_mode": {
    "name": "ipython",
    "version": 3
   },
   "file_extension": ".py",
   "mimetype": "text/x-python",
   "name": "python",
   "nbconvert_exporter": "python",
   "pygments_lexer": "ipython3",
   "version": "3.6.10"
  }
 },
 "nbformat": 4,
 "nbformat_minor": 4
}
